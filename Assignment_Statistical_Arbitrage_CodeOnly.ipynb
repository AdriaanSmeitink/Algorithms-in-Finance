{
 "cells": [
  {
   "cell_type": "code",
   "execution_count": null,
   "metadata": {},
   "outputs": [],
   "source": [
    "# Set Jupyter to render directly to the screen\n",
    "%matplotlib inline\n",
    "import matplotlib as plt\n",
    "# Import pandas and numpy for analysis, as well as package math\n",
    "import pandas as pd\n",
    "import numpy as np\n",
    "import math as math"
   ]
  },
  {
   "cell_type": "markdown",
   "metadata": {},
   "source": [
    "# Importing the Analysis Functions from the external Python Module"
   ]
  },
  {
   "cell_type": "code",
   "execution_count": null,
   "metadata": {},
   "outputs": [],
   "source": [
    "# Import the functions to do the cointegration analysis. This requires that 'cointegration_analysis.py' is in the same \n",
    "# directory as this notebook.\n",
    "\n",
    "from cointegration_analysis import estimate_long_run_short_run_relationships, engle_granger_two_step_cointegration_test"
   ]
  },
  {
   "cell_type": "code",
   "execution_count": null,
   "metadata": {
    "scrolled": true
   },
   "outputs": [],
   "source": [
    "# We can use the help() function in Python to bring up the docstrings. Alternatively, we could have used shift-tab while \n",
    "# highlighint the function name or looked in the cointegration_analysis.py file itself.\n",
    "\n",
    "help(estimate_long_run_short_run_relationships)"
   ]
  },
  {
   "cell_type": "code",
   "execution_count": null,
   "metadata": {},
   "outputs": [],
   "source": [
    "help(engle_granger_two_step_cointegration_test)"
   ]
  },
  {
   "cell_type": "markdown",
   "metadata": {},
   "source": [
    "# Reading in the CSV file"
   ]
  },
  {
   "cell_type": "code",
   "execution_count": null,
   "metadata": {},
   "outputs": [],
   "source": [
    "def read_data(filename):\n",
    "    '''\n",
    "    This function reads the .csv stored at the 'filename' location and returns a DataFrame\n",
    "    with two levels of column names. The first level column contains the Stock Name and the \n",
    "    second contains the type of market data, e.g. bid/ask, price/volume.\n",
    "    '''\n",
    "    df = pd.read_csv(filename, index_col=0)\n",
    "    df.columns = [df.columns.str[-2:], df.columns.str[:-3]]\n",
    "\n",
    "    return df"
   ]
  },
  {
   "cell_type": "code",
   "execution_count": null,
   "metadata": {},
   "outputs": [],
   "source": [
    "# Read the market data\n",
    "\n",
    "filename = 'Pairs Trading.csv'\n",
    "market_data = read_data(filename)"
   ]
  },
  {
   "cell_type": "code",
   "execution_count": null,
   "metadata": {},
   "outputs": [],
   "source": [
    "# Get all the stock names into a list\n",
    "\n",
    "stock_names = list(market_data.columns.get_level_values(0).unique())\n",
    "\n",
    "print(stock_names)"
   ]
  },
  {
   "cell_type": "markdown",
   "metadata": {},
   "source": [
    "# Some Examples"
   ]
  },
  {
   "cell_type": "code",
   "execution_count": null,
   "metadata": {},
   "outputs": [],
   "source": [
    "# What is in the dataframe? (Display top 5 rows with the .head() DataFrame method.)\n",
    "\n",
    "market_data.head()"
   ]
  },
  {
   "cell_type": "code",
   "execution_count": null,
   "metadata": {},
   "outputs": [],
   "source": [
    "# Extracting the BidVolumes of AA. Note how the printed output is formatted differently \n",
    "# from the output printed for the whole DataFrame, to indicate that the single column \n",
    "# we extracted is a Series.\n",
    "\n",
    "bid_volumes_AA = market_data['AA', 'BidVolume']\n",
    "bid_volumes_AA.head()"
   ]
  },
  {
   "cell_type": "code",
   "execution_count": null,
   "metadata": {},
   "outputs": [],
   "source": [
    "# Extracting the BidVolume at a specific time. This is just a number (float).\n",
    "\n",
    "time = '2018-01-05 10:20:00'\n",
    "\n",
    "bid_volume_AA_at_time = market_data.loc[time, ('AA', 'BidVolume')]\n",
    "bid_volume_AA_at_time"
   ]
  },
  {
   "cell_type": "code",
   "execution_count": null,
   "metadata": {},
   "outputs": [],
   "source": [
    "# Extracting a subset of observations, here the 1220th to the 1225th.\n",
    "\n",
    "market_data.iloc[1220:1225]"
   ]
  },
  {
   "cell_type": "code",
   "execution_count": null,
   "metadata": {},
   "outputs": [],
   "source": [
    "# Adding a new column based on a calculation of old columns\n",
    "# NOTE: The new column gets added to the far right of the DataFrame\n",
    "\n",
    "bid_ask_spread_AA = market_data['AA', 'AskPrice'] - market_data['AA', 'BidPrice']\n",
    "\n",
    "market_data['AA', 'BidAskSpread'] = bid_ask_spread_AA\n",
    "\n",
    "market_data.head()"
   ]
  },
  {
   "cell_type": "code",
   "execution_count": null,
   "metadata": {},
   "outputs": [],
   "source": [
    "# The resulting DataFrame still looks a bit disordered, with the new AA column not alongside\n",
    "# the other AA columns. We can alphabetically sort the column names to clean things up a bit.\n",
    "\n",
    "market_data = market_data.sort_index(axis=1)\n",
    "market_data.head()"
   ]
  },
  {
   "cell_type": "code",
   "execution_count": null,
   "metadata": {},
   "outputs": [],
   "source": [
    "# If we want to iterate over each timestamp, we can easily do so. As practice, let's \n",
    "# calculate the maximum BidAskSpread of AA seen in the whole dataset.\n",
    "\n",
    "max_spread_seen = 0\n",
    "max_spread_seen_time = None\n",
    "\n",
    "for time, mkt_data_at_time in market_data.iterrows():\n",
    "    spread = mkt_data_at_time['AA', 'BidAskSpread'] \n",
    "    \n",
    "    if spread > max_spread_seen:\n",
    "        max_spread_seen = spread\n",
    "        max_spread_seen_time = time\n",
    "\n",
    "print(max_spread_seen_time, max_spread_seen)"
   ]
  },
  {
   "cell_type": "code",
   "execution_count": null,
   "metadata": {},
   "outputs": [],
   "source": [
    "# Now let's do a comparison between different timestamps. We will calculate the maximum \n",
    "# price-increase of the AA BidPrice for the whole dataset.\n",
    "\n",
    "max_price_increase = -999999\n",
    "max_price_increase_seen_time = None\n",
    "\n",
    "prev_time = None\n",
    "\n",
    "for time, mkt_data_at_time in market_data.iterrows():\n",
    "    if prev_time == None:\n",
    "        # Skip the first observation, there is no previous bid price to compare to yet.\n",
    "        prev_time = time\n",
    "        continue\n",
    "    \n",
    "    previous_bid_price = market_data.loc[prev_time, ('AA', 'BidPrice')]  \n",
    "    current_bid_price = mkt_data_at_time['AA', 'BidPrice']\n",
    "       \n",
    "    bid_price_increase = current_bid_price - previous_bid_price\n",
    "    \n",
    "    if bid_price_increase > max_price_increase:\n",
    "        max_price_increase = bid_price_increase\n",
    "        max_price_increase_seen_time = time\n",
    "        \n",
    "    # Update the previous time for the next iteration of the loop.\n",
    "    prev_time = time\n",
    "\n",
    "print(max_price_increase_seen_time, max_price_increase)"
   ]
  },
  {
   "cell_type": "markdown",
   "metadata": {},
   "source": [
    "# Exercise"
   ]
  },
  {
   "cell_type": "code",
   "execution_count": null,
   "metadata": {},
   "outputs": [],
   "source": [
    "# Now it's your turn. Start with plotting some of the values in the market_data DataFrame. Next, apply\n",
    "# the analysis functions imported above. Finally design and backtest a trading algorithm exploiting\n",
    "# the cointegration relationships found in the data.\n"
   ]
  },
  {
   "cell_type": "markdown",
   "metadata": {},
   "source": [
    "# Analysis"
   ]
  },
  {
   "cell_type": "code",
   "execution_count": null,
   "metadata": {},
   "outputs": [],
   "source": [
    "# Load and eplore dataset\n",
    "filename = 'Pairs Trading.csv'\n",
    "market_data = read_data(filename)\n",
    "\n",
    "market_data.head()"
   ]
  },
  {
   "cell_type": "code",
   "execution_count": null,
   "metadata": {},
   "outputs": [],
   "source": [
    "# Quick plot of bid and ask prices of 2 stocks\n",
    "market_data['BB', 'BidPrice'].iloc[0:250].plot(color='teal', linestyle=':', label = \"BB_BidPrice\", legend = True)\n",
    "market_data['BB', 'AskPrice'].iloc[0:250].plot(color='orange', linestyle=':', label = \"BB_AskPrice\", legend = True)\n",
    "market_data['CC', 'BidPrice'].iloc[0:250].plot(color='teal', title='prices', figsize=(20, 3),  label = \"CC_BidPrice\", legend = True)\n",
    "market_data['CC', 'AskPrice'].iloc[0:250].plot(color='orange', label = \"CC_AskPrice\", legend = True)\n"
   ]
  },
  {
   "cell_type": "code",
   "execution_count": null,
   "metadata": {
    "scrolled": true
   },
   "outputs": [],
   "source": [
    "# Quick plot of volume series\n",
    "market_data['AA', 'BidVolume'].iloc[0:250].plot(color='teal', label = \"AA_BidVolume\", legend = True, figsize = (20,3))\n",
    "market_data['AA', 'AskVolume'].iloc[0:250].plot(color='orange', label = \"AA_AskVolume\", legend = True)\n",
    "market_data['DD', 'BidVolume'].iloc[0:250].plot(color='teal', linestyle=':', label = \"DD_BidVolume\", legend = True)\n",
    "market_data['DD', 'AskVolume'].iloc[0:250].plot(color='orange', title = \"Volume\", linestyle=':', label = \"DD_AskVolume\", legend = True)\n",
    "\n"
   ]
  },
  {
   "cell_type": "code",
   "execution_count": null,
   "metadata": {},
   "outputs": [],
   "source": [
    "# Add market mid prices columns\n",
    "\n",
    "for stock in stock_names:\n",
    "    market_data[stock,\"MidPrice\"] = (market_data[stock,'BidPrice'] + market_data[stock, 'AskPrice']) / 2.0\n",
    "        \n",
    "        \n",
    "market_data = market_data.sort_index(axis=1)\n",
    "market_data.head()        \n",
    "\n"
   ]
  },
  {
   "cell_type": "code",
   "execution_count": null,
   "metadata": {},
   "outputs": [],
   "source": [
    "# Create new columns with log prices, because we want to work with log prices to calculate cointegration\n",
    "for stock in stock_names:\n",
    "    market_data[stock,\"MidPriceLog\"] = np.log(market_data[stock,'MidPrice'])\n",
    "    market_data[stock,\"AskPriceLog\"] = np.log(market_data[stock,'AskPrice'])\n",
    "    market_data[stock,\"BidPriceLog\"] = np.log(market_data[stock,'BidPrice'])      \n",
    "        \n",
    "market_data = market_data.sort_index(axis=1)\n",
    "market_data.head()        \n"
   ]
  },
  {
   "cell_type": "code",
   "execution_count": null,
   "metadata": {},
   "outputs": [],
   "source": [
    "# Create new columns with bid-ask spread, also with log prices and make it a percentage (Vidyamurthy page 83)\n",
    "\n",
    "for stock in stock_names:\n",
    "    market_data[stock,\"BidAskSpread\"] = (market_data[stock,'AskPrice'] - market_data[stock, 'BidPrice'])\n",
    "    market_data[stock,\"BidAskSpreadLogPerc\"] = (market_data[stock,'AskPriceLog'] - market_data[stock, 'BidPriceLog']) / market_data[stock, 'AskPriceLog']\n",
    "    \n",
    "market_data = market_data.sort_index(axis=1)\n",
    "market_data.head()     "
   ]
  },
  {
   "cell_type": "code",
   "execution_count": null,
   "metadata": {},
   "outputs": [],
   "source": [
    "#Visualize mid prices to check if they are correct\n",
    "market_data['BB', 'BidPrice'].iloc[0:250].plot(color='teal', linestyle=':', label = \"BB_BidPrice\", legend = True)\n",
    "market_data['BB', 'AskPrice'].iloc[0:250].plot(color='orange', linestyle=':', label = \"BB_AskPrice\", legend = True)\n",
    "market_data['BB', 'MidPrice'].iloc[0:250].plot(color='yellow', linestyle=':', label = \"BB_MidPrice\", legend = True)\n",
    "market_data['CC', 'BidPrice'].iloc[0:250].plot(color='teal', title='MidPrices', figsize=(20, 3),  label = \"CC_BidPrice\", legend = True)\n",
    "market_data['CC', 'AskPrice'].iloc[0:250].plot(color='orange', label = \"CC_AskPrice\", legend = True)\n",
    "market_data['CC', 'MidPrice'].iloc[0:250].plot(color='yellow', label = \"CC_MidPrice\", legend = True)"
   ]
  },
  {
   "cell_type": "code",
   "execution_count": null,
   "metadata": {},
   "outputs": [],
   "source": [
    "# Try analysis functions on BB and CC. Conclusion: not a good pair to trade (high p-value)\n",
    "print(engle_granger_two_step_cointegration_test(market_data['BB','MidPriceLog'], market_data['CC', 'MidPriceLog']))\n",
    "estimate_long_run_short_run_relationships(market_data['BB','MidPriceLog'], market_data['CC', 'MidPriceLog'])"
   ]
  },
  {
   "cell_type": "code",
   "execution_count": null,
   "metadata": {},
   "outputs": [],
   "source": [
    "# Run the analysis functions for all pairs by creating a nested loop and storing them in dictionaries\n",
    "stock_names_duplicate = list(market_data.columns.get_level_values(0).unique())\n",
    "\n",
    "dict_pvalue = {}\n",
    "dict_dstat = {}\n",
    "dict_c = {}\n",
    "dict_gamma = {}\n",
    "dict_alpha = {}\n",
    "dict_z = {}\n",
    "\n",
    "\n",
    "for stock in stock_names:\n",
    "    for stockduplicate in stock_names_duplicate:\n",
    "        if stock != stockduplicate and (stockduplicate, stock) not in dict_pvalue:\n",
    "            dict_pvalue[(stock, stockduplicate)] = engle_granger_two_step_cointegration_test(market_data[stock,'MidPriceLog'], market_data[stockduplicate, 'MidPriceLog'])[1]\n",
    "            dict_dstat[(stock, stockduplicate)] = engle_granger_two_step_cointegration_test(market_data[stock,'MidPriceLog'], market_data[stockduplicate, 'MidPriceLog'])[0]\n",
    "            dict_c[(stock, stockduplicate)] = estimate_long_run_short_run_relationships(market_data[stock,'MidPriceLog'], market_data[stockduplicate, 'MidPriceLog'])[0]\n",
    "            dict_gamma[(stock, stockduplicate)] = estimate_long_run_short_run_relationships(market_data[stock,'MidPriceLog'], market_data[stockduplicate, 'MidPriceLog'])[1]\n",
    "            dict_alpha[(stock, stockduplicate)] = estimate_long_run_short_run_relationships(market_data[stock,'MidPriceLog'], market_data[stockduplicate, 'MidPriceLog'])[2]\n",
    "            dict_z[(stock, stockduplicate)] = estimate_long_run_short_run_relationships(market_data[stock,'MidPriceLog'], market_data[stockduplicate, 'MidPriceLog'])[3]"
   ]
  },
  {
   "cell_type": "code",
   "execution_count": null,
   "metadata": {},
   "outputs": [],
   "source": [
    "# Create dataframes with pvalues and test statistics, as well as long run short run relationship\n",
    "pvalues_df = pd.DataFrame.from_dict(dict_pvalue, orient='index')\n",
    "pvalues_df.rename(columns = {0: 'p_value'}, inplace = True)\n",
    "print(pvalues_df.head())\n",
    "\n",
    "dstat_df = pd.DataFrame.from_dict(dict_dstat, orient='index')\n",
    "dstat_df.rename(columns = {0: 'd_stat'}, inplace = True)\n",
    "dstat_df.head()\n",
    "\n",
    "c_df = pd.DataFrame.from_dict(dict_c, orient='index')\n",
    "c_df.rename(columns = {0: 'c_value'}, inplace = True)\n",
    "print(c_df.head())\n",
    "\n",
    "gamma_df = pd.DataFrame.from_dict(dict_gamma, orient='index')\n",
    "gamma_df.rename(columns = {0: 'gamma_value'}, inplace = True)\n",
    "print(gamma_df.head())\n",
    "\n",
    "alpha_df = pd.DataFrame.from_dict(dict_alpha, orient='index')\n",
    "alpha_df.rename(columns = {0: 'alpha_value'}, inplace = True)\n",
    "print(alpha_df.head())\n",
    "\n",
    "z_df = pd.DataFrame.from_dict(dict_z, orient='index')\n",
    "z_df.rename(columns = {0: 'z_value'}, inplace = True)\n",
    "z_df.head()"
   ]
  },
  {
   "cell_type": "code",
   "execution_count": null,
   "metadata": {},
   "outputs": [],
   "source": [
    "# Inspect z dataframe\n",
    "error_df=z_df.T\n",
    "error_df.head()"
   ]
  },
  {
   "cell_type": "code",
   "execution_count": null,
   "metadata": {},
   "outputs": [],
   "source": [
    "# Sort pvalues (lower is better)\n",
    "pvalues_df.sort_values(by = \"p_value\", inplace = True)\n",
    "pvalues_df.head(10)"
   ]
  },
  {
   "cell_type": "code",
   "execution_count": null,
   "metadata": {},
   "outputs": [],
   "source": [
    "# Sort dickey fuller statistic (more negative is better)\n",
    "dstat_df.sort_values(by = \"d_stat\", inplace = True)\n",
    "dstat_df.head(10)"
   ]
  },
  {
   "cell_type": "code",
   "execution_count": null,
   "metadata": {},
   "outputs": [],
   "source": [
    "# Sort alpha values (higher absolute value is better), \n",
    "# these together with p-value and dickey fuller statistic determine the right pairs to trade\n",
    "alpha_df.sort_values(by = \"alpha_value\", inplace = True)\n",
    "alpha_df.head(10)"
   ]
  },
  {
   "cell_type": "code",
   "execution_count": null,
   "metadata": {},
   "outputs": [],
   "source": [
    "#\n",
    "c_df.sort_values(by = \"c_value\", inplace = True)\n",
    "c_df.head(10)"
   ]
  },
  {
   "cell_type": "code",
   "execution_count": null,
   "metadata": {
    "scrolled": false
   },
   "outputs": [],
   "source": [
    "# Best pairs to trade according to p-value\n",
    "# Conclusion: (FF,MM) (BB, JJ), (FF,NN), (BB, DD), (MM, NN), (DD, JJ), (DD, HH) are all below 0.0001\n",
    "\n",
    "pvalues_df.head(10).plot(kind = \"bar\")"
   ]
  },
  {
   "cell_type": "code",
   "execution_count": null,
   "metadata": {},
   "outputs": [],
   "source": [
    "# Best pairs to trade according to dstat\n",
    "dstat_df.head(10).plot(kind = \"bar\")"
   ]
  },
  {
   "cell_type": "code",
   "execution_count": null,
   "metadata": {},
   "outputs": [],
   "source": [
    "# Best pairs to trade according to alpha\n",
    "alpha_df.head(10).plot(kind = \"bar\")"
   ]
  },
  {
   "cell_type": "code",
   "execution_count": null,
   "metadata": {},
   "outputs": [],
   "source": [
    "# Worst pairs according to p-value\n",
    "pvalues_df.tail(10).plot(kind = \"bar\")"
   ]
  },
  {
   "cell_type": "code",
   "execution_count": null,
   "metadata": {
    "scrolled": true
   },
   "outputs": [],
   "source": [
    "# Worst pairs to trade according to dstat\n",
    "dstat_df.tail(10).plot(kind = \"bar\")"
   ]
  },
  {
   "cell_type": "code",
   "execution_count": null,
   "metadata": {},
   "outputs": [],
   "source": [
    "# Create a copy as a fail safe\n",
    "market_data_copy = market_data.copy()"
   ]
  },
  {
   "cell_type": "code",
   "execution_count": null,
   "metadata": {},
   "outputs": [],
   "source": [
    "# Merge market data and the z (error correction term) dataframe\n",
    "market_data = pd.merge(market_data,error_df,left_index=True, right_index=True )\n",
    "market_data = market_data.sort_index(axis=1)\n",
    "market_data.head() "
   ]
  },
  {
   "cell_type": "code",
   "execution_count": null,
   "metadata": {
    "scrolled": true
   },
   "outputs": [],
   "source": [
    "# Visualize bid and ask volume\n",
    "\n",
    "# Plot of volume series\n",
    "market_data['FF', 'BidVolume'].iloc[0:250].plot(color='teal', label = \"FF_BidVolume\", legend = True, figsize = (20,6))\n",
    "market_data['FF', 'AskVolume'].iloc[0:250].plot(color='orange', label = \"FF_AskVolume\", legend = True)\n",
    "market_data['MM', 'BidVolume'].iloc[0:250].plot(color='teal', linestyle=':', label = \"MM_BidVolume\", legend = True)\n",
    "market_data['MM', 'AskVolume'].iloc[0:250].plot(color='orange', title = \"Volume\", linestyle=':', label = \"MM_AskVolume\", legend = True)\n"
   ]
  },
  {
   "cell_type": "code",
   "execution_count": null,
   "metadata": {
    "scrolled": false
   },
   "outputs": [],
   "source": [
    "# Visualize bid and ask prices\n",
    "market_data['FF', 'BidPrice'].plot(color='teal', label = \"FF_BidPrice\", legend = True, figsize = (20,6))\n",
    "market_data['FF', 'AskPrice'].plot(color='orange', label = \"FF_AskPrice\", legend = True)\n",
    "market_data['MM', 'BidPrice'].plot(color='teal', linestyle=':', label = \"MM_BidPrice\", legend = True)\n",
    "market_data['MM', 'AskPrice'].plot(color='orange', title = \"Bid and ask prices\", linestyle=':', label = \"MM_AskPrice\", legend = True)\n",
    "\n",
    "market_data['FF', 'BidPrice'].plot(color='teal', label = \"FF_BidPrice\", legend = True, figsize = (20,6))\n",
    "market_data['FF', 'AskPrice'].plot(color='orange', label = \"FF_AskPrice\", legend = True)\n",
    "market_data['MM', 'BidPrice'].plot(color='teal', linestyle=':', label = \"MM_BidPrice\", legend = True)\n",
    "market_data['MM', 'AskPrice'].plot(color='orange', title = \"Bid and ask prices\", linestyle=':', label = \"MM_AskPrice\", legend = True)\n"
   ]
  },
  {
   "cell_type": "code",
   "execution_count": null,
   "metadata": {},
   "outputs": [],
   "source": [
    "# Visualize log of mid prices (just like bid-ask graph, cointegration is easily spotted here)\n",
    "market_data['FF', 'MidPriceLog'].plot(color='orange', label = \"FF_MidPriceLog\", legend = True, figsize = (20,6))\n",
    "market_data['MM', 'MidPriceLog'].plot(color='orange', title = \"MidPricesLog\", linestyle=':', label = \"MM_MidPriceLog\", legend = True)"
   ]
  },
  {
   "cell_type": "code",
   "execution_count": null,
   "metadata": {
    "scrolled": true
   },
   "outputs": [],
   "source": [
    "# Visualize error correction term with lines at 2 * standard deviation (theoretical optimal z)\n",
    "\n",
    "# Calculate standard deviation of Z, optimal threshold is 2 * standard deviation\n",
    "#(paper: Pairs trading: optimal thresholds and profitability) -> trade below 2 standard deviation would be a trade of poor quality\n",
    "\n",
    "optimal_z = market_data['FF', 'MM'].std() * 2\n",
    "optimal_z\n",
    "\n",
    "market_data.plot(y = [('FF', 'MM')], title = 'Error correction term FF,MM', figsize = (20,6))\n",
    "plt.pyplot.axhline(y = optimal_z, color = 'r')\n",
    "plt.pyplot.axhline(y = -optimal_z, color = 'g')"
   ]
  },
  {
   "cell_type": "code",
   "execution_count": null,
   "metadata": {},
   "outputs": [],
   "source": [
    "# Get maximum and minimum values of error correction term\n",
    "print(market_data['FF', 'MM'].idxmax())\n",
    "print(max(market_data['FF', 'MM']))\n",
    "print(market_data['FF', 'MM'].idxmin())\n",
    "print(min(market_data['FF', 'MM']))"
   ]
  },
  {
   "cell_type": "code",
   "execution_count": null,
   "metadata": {},
   "outputs": [],
   "source": [
    "# Inspect FF,MM pair. Conclusion: if error correction term is high, sell the spread -> sell FF, buy MM\n",
    "# if the error correction term is low, buy the spread -> buy FF, sell MM\n",
    "pd.set_option('display.max_columns', None)  \n",
    "pd.set_option('display.expand_frame_repr', False)\n",
    "pd.set_option('max_colwidth', -1)\n",
    "\n",
    "time_max = '2018-02-01 16:10:00'\n",
    "\n",
    "max_MidPrice_FF_at_time = market_data.loc[time_max, ('FF', 'MidPrice')]\n",
    "max_MidPrice_MM_at_time = market_data.loc[time_max, ('MM', 'MidPrice')]\n",
    "print('Max price FF is',max_MidPrice_FF_at_time, 'Max price MM is', max_MidPrice_MM_at_time)\n",
    "\n",
    "time_min = '2018-02-20 02:50:00'\n",
    "\n",
    "min_MidPrice_FF_at_time = market_data.loc[time_min, ('FF', 'MidPrice')]\n",
    "min_MidPrice_MM_at_time = market_data.loc[time_min, ('MM', 'MidPrice')]\n",
    "print('Min price FF is', min_MidPrice_FF_at_time, 'Min price MM is', min_MidPrice_MM_at_time)"
   ]
  },
  {
   "cell_type": "code",
   "execution_count": null,
   "metadata": {},
   "outputs": [],
   "source": [
    "# Make a dataframe with the relationship coefficients (c, gamma, alpha, p-value, dickey fuller statistic)\n",
    "rel_coeff = pd.merge(c_df, gamma_df,left_index=True, right_index=True )\n",
    "rel_coeff = pd.merge(rel_coeff, alpha_df,left_index=True, right_index=True )\n",
    "rel_coeff = pd.merge(rel_coeff, pvalues_df,left_index=True, right_index=True )\n",
    "rel_coeff = pd.merge(rel_coeff, dstat_df,left_index=True, right_index=True )\n",
    "rel_coeff = rel_coeff.copy()\n",
    "rel_coeff.head()\n"
   ]
  },
  {
   "cell_type": "code",
   "execution_count": null,
   "metadata": {},
   "outputs": [],
   "source": [
    "# Determine optimal pairs basede on p-value, alpha and dickey fuller statistic\n",
    "# We want a p_value below 0.0001, an alpha below 0.002 and a dickey fuller statistic below 6\n",
    "\n",
    "pairs_traded = rel_coeff.loc[rel_coeff[\"p_value\"] < 0.0001].loc[abs(rel_coeff[\"alpha_value\"]) > 0.002].loc[abs(rel_coeff[\"d_stat\"]) > 6]\n",
    "pairs = list(pairs_traded.T.columns.get_level_values(0).unique())\n",
    "\n",
    "for pair in pairs:\n",
    "    print(rel_coeff.loc[[pair],:])\n",
    "    \n",
    "pairs"
   ]
  },
  {
   "cell_type": "code",
   "execution_count": null,
   "metadata": {},
   "outputs": [],
   "source": [
    "# Create a list with the individual stocks in our optimal pairs\n",
    "stocks=[]\n",
    "for pair in pairs:\n",
    "    for stock in pair:\n",
    "        if stock not in stocks:\n",
    "            stocks.append(stock)\n",
    "            \n",
    "stocks"
   ]
  },
  {
   "cell_type": "code",
   "execution_count": null,
   "metadata": {},
   "outputs": [],
   "source": [
    "# Create a function that checks if a number is whole\n",
    "def is_whole(n):\n",
    "    return n % 1 == 0\n",
    "\n",
    "print(is_whole(4.5), is_whole(10))"
   ]
  },
  {
   "cell_type": "markdown",
   "metadata": {},
   "source": [
    "# Algorithm "
   ]
  },
  {
   "cell_type": "code",
   "execution_count": null,
   "metadata": {},
   "outputs": [],
   "source": [
    "### Algorithm ### \n",
    "limit = 100\n",
    "\n",
    "# Positions dataframe, the initial values are all 0.          \n",
    "positions = pd.DataFrame(data=0, \n",
    "                         index=market_data.index,\n",
    "                         columns= stocks)       \n",
    "\n",
    "for time, mkt_data_at_time in market_data.iterrows():\n",
    "    if prev_time == None:\n",
    "        # This skips the first observation, we don't want to take a position yet\n",
    "        prev_time = time\n",
    "        continue\n",
    "\n",
    "\n",
    "    # Loop over each pair and consecutive timestamp in the DataFrame and make a trading decision at each timestamp, \n",
    "    # dynamically keeping track of the previous timestamp to easily refer to the previous positions.\n",
    "    # Because our algorithm only works for the pairs individually but not all together, this output is for one pair\n",
    "    for pair in pairs:\n",
    "        stock1=pair[0]\n",
    "        stock2=pair[1]\n",
    "\n",
    "        # Trade ratio is 1:(gamma * y_t-1 / x_t-1)\n",
    "        gamma = rel_coeff.loc[[pair], 'gamma_value']\n",
    "        gamma = gamma.iloc[0]\n",
    "        previous_price_stock1 = market_data.loc[prev_time, (stock1, 'MidPrice')]\n",
    "        previous_price_stock2 = market_data.loc[prev_time, (stock2, 'MidPrice')]\n",
    "        \n",
    "        trade_ratio = gamma* previous_price_stock1/previous_price_stock2\n",
    "        optimal_z = market_data[stock1, stock2].std() * 2\n",
    "        \n",
    "        # If the error correction term is higher than 0.005:\n",
    "        if mkt_data_at_time[stock1, stock2] > optimal_z:\n",
    "\n",
    "            # Check if trade is feasible with trading slippage (Vidyamurthy book, page 83)\n",
    "            # If trading slippage < optimal z, the trade is feasible\n",
    "            if (mkt_data_at_time[stock1, 'BidAskSpreadLogPerc'] + trade_ratio * mkt_data_at_time[stock2, 'BidAskSpreadLogPerc']) < optimal_z:\n",
    "\n",
    "            # Then sell the spread -> sell FF and buy MM.\n",
    "            # But never trade more than the volume available on either side.\n",
    "                volume_available = min(mkt_data_at_time[stock1, 'BidVolume'], \n",
    "                                       mkt_data_at_time[stock2, 'AskVolume'])\n",
    "\n",
    "                previous_position_stock1 = positions.loc[prev_time, stock1]\n",
    "                previous_position_stock2 = positions.loc[prev_time, stock2]\n",
    "                \n",
    "            # Sell stock1 and buy stock 2, so for stock1 the ideal position is -volume available and vice versa\n",
    "                ideal_position_stock1 = previous_position_stock1 - volume_available \n",
    "                ideal_position_stock2 = previous_position_stock2 + volume_available \n",
    "\n",
    "            # We would like to trade up to ideal_position, but \n",
    "            # if that is more than the limit of one of the stocks, we will trade up to the limit instead\n",
    "                limited_position_stock1 = max(ideal_position_stock1, -limit)\n",
    "                limited_position_stock2 = min(ideal_position_stock2, limit)\n",
    "                \n",
    "            # To stay within our limit, we calculate the lowest absolute limited position of the pair,\n",
    "            # using the previous position and the limited difference between the previous positions\n",
    "            # and the limited positions\n",
    "                limited_difference_stock1 = limited_position_stock1 - previous_position_stock1\n",
    "                limited_difference_stock2 = limited_position_stock2 - previous_position_stock2\n",
    "                \n",
    "                limited_position = min(abs(limited_difference_stock1), abs(limited_difference_stock2))\n",
    "\n",
    "    # Execute the trade\n",
    "            # If the trade ratio > 1, we need to trade less of stock1 to stay within our limit. So, we divide\n",
    "            # the initial position by the trade ratio to get a smaller number of stocks. We also use math.floor to \n",
    "            # get whole values (we can only trade whole units). \n",
    "                if  trade_ratio > 1:\n",
    "                    stock1P = math.floor(previous_position_stock1-limited_position/trade_ratio)\n",
    "                    stock2P = math.floor(previous_position_stock2+limited_position)\n",
    "                    \n",
    "                # Since we sell stock1, the new position should be lower than the previous position\n",
    "                    if stock1P < positions.loc[prev_time, stock1]:\n",
    "                        positions.loc[time, stock1] = stock1P\n",
    "                        positions.loc[time, stock2] = stock2P\n",
    "                # If this is not the case, we keep the previous position\n",
    "                    else:\n",
    "                        positions.loc[time, stock1] = positions.loc[prev_time, stock1]\n",
    "                        positions.loc[time, stock2] = positions.loc[prev_time, stock2]\n",
    "            # If the trade ratio < 1, we can trade at the limited position. So, the position of stock1 is \n",
    "            # previous position -limited position (sell) and the position of stock2 is\n",
    "            # previous position + limited position (buy) * trade_ratio\n",
    "            # We also use math.floor to get whole values (we can only trade whole units).                       \n",
    "                else:\n",
    "                    stock1P = math.floor(previous_position_stock1 - limited_position)\n",
    "                    stock2P = math.floor(previous_position_stock2 + limited_position * trade_ratio)\n",
    "                    if stock1P < positions.loc[prev_time, stock1]:\n",
    "                        positions.loc[time, stock1] = stock1P\n",
    "                        positions.loc[time, stock2] = stock2P\n",
    "                    else:\n",
    "                        positions.loc[time, stock1] = positions.loc[prev_time, stock1]\n",
    "                        positions.loc[time, stock2] = positions.loc[prev_time, stock2]\n",
    "\n",
    "        # Else buy the spread -> buy FF and sell MM\n",
    "        elif mkt_data_at_time[stock1, stock2] < -optimal_z:\n",
    "\n",
    "            # Check if trade is feasible with trading slippage (Vidyamurthy book, page 83)\n",
    "            # If trading slippage < absolute value of optimal z, the trade is feasible\n",
    "            if (mkt_data_at_time[stock1, 'BidAskSpreadLogPerc'] + trade_ratio * mkt_data_at_time[stock2, 'BidAskSpreadLogPerc']) < abs(optimal_z):\n",
    "\n",
    "                # But never trade more than the volume available on either side.\n",
    "                volume_available = min(mkt_data_at_time[stock1, 'AskVolume'], \n",
    "                                       mkt_data_at_time[stock2, 'BidVolume'])\n",
    "\n",
    "                previous_position_stock1 = positions.loc[prev_time, stock1]\n",
    "                previous_position_stock2 = positions.loc[prev_time, stock2]\n",
    "                \n",
    "            # Sell stock1 and buy stock 2, so for stock1 the ideal position is -volume available and vice versa\n",
    "                ideal_position_stock1 = previous_position_stock1 + volume_available \n",
    "                ideal_position_stock2 = previous_position_stock2 - volume_available \n",
    "\n",
    "            # We would like to trade up to ideal_position, but \n",
    "            # if that is more than the limit of one of the stocks, we will trade up to the limit instead\n",
    "                limited_position_stock1 = min(ideal_position_stock1, limit)\n",
    "                limited_position_stock2 = max(ideal_position_stock2, -limit)\n",
    "                \n",
    "            # To stay within our limit, we calculate the lowest absolute limited position of the pair,\n",
    "            # using the previous position and the limited difference between the previous positions\n",
    "            # and the limited positions                \n",
    "                limited_difference_stock1 = limited_position_stock1 - previous_position_stock1\n",
    "                limited_difference_stock2 = limited_position_stock2 - previous_position_stock2\n",
    "                \n",
    "                limited_position = min(abs(limited_difference_stock1), abs(limited_difference_stock2))\n",
    "\n",
    "        #Execute the trade\n",
    "             # If the trade ratio > 1, we need to trade less of stock1 to stay within our limit. So, we divide\n",
    "             # the initial position by the trade ratio to get a smaller number of stocks. We also use math.floor to \n",
    "             # get whole values (we can only trade whole units).               \n",
    "                if trade_ratio > 1: \n",
    "                    stock1P = math.floor(previous_position_stock1+limited_position/trade_ratio)\n",
    "                    stock2P = math.floor(previous_position_stock2-limited_position)\n",
    "                    \n",
    "                # Since we buy stock1, the new position should be higher than the previous position                    \n",
    "                    if stock1P > positions.loc[prev_time, stock1]:\n",
    "                        positions.loc[time, stock1] = stock1P\n",
    "                        positions.loc[time, stock2] = stock2P\n",
    "                # If this is not the case, we keep the previous position                        \n",
    "                    else:\n",
    "                        positions.loc[time, stock1] = positions.loc[prev_time, stock1]\n",
    "                        positions.loc[time, stock2] = positions.loc[prev_time, stock2]\n",
    "            # If the trade ratio < 1, we can trade at the limited position. So, the position of stock1 is \n",
    "            # previous position +limited position (bu) and the position of stock2 is\n",
    "            # previous position - limited position (sell) * trade_ratio\n",
    "            # We also use math.floor to get whole values (we can only trade whole units).                          \n",
    "                else:\n",
    "                    stock1P = math.floor(previous_position_stock1 + limited_position)\n",
    "                    stock2P = math.floor(previous_position_stock2 - limited_position * trade_ratio)\n",
    "\n",
    "                    if stock1P > positions.loc[prev_time, stock1]:\n",
    "                        positions.loc[time, stock1] = stock1P\n",
    "                        positions.loc[time, stock2] = stock2P\n",
    "                    else:\n",
    "                        positions.loc[time, stock1] = positions.loc[prev_time, stock1]\n",
    "                        positions.loc[time, stock2] = positions.loc[prev_time, stock2]\n",
    "\n",
    "        # Or finally, if the error correction term is not above or below the optimal z\n",
    "        else:\n",
    "            # Hold the previous positions, no trades\n",
    "            positions.loc[time, stock1] = positions.loc[prev_time, stock1]\n",
    "            positions.loc[time, stock2] = positions.loc[prev_time, stock2]\n",
    "\n",
    "        # In the next iteration of the loop, the previous time will be what is now the current time\n",
    "        prev_time = time\n",
    "    "
   ]
  },
  {
   "cell_type": "code",
   "execution_count": null,
   "metadata": {},
   "outputs": [],
   "source": [
    "# Inspect positions for each stock at timestamps\n",
    "positions.tail()"
   ]
  },
  {
   "cell_type": "code",
   "execution_count": null,
   "metadata": {},
   "outputs": [],
   "source": [
    "# Visualize positions over time\n",
    "positions.plot(figsize=(20, 3))"
   ]
  },
  {
   "cell_type": "code",
   "execution_count": null,
   "metadata": {},
   "outputs": [],
   "source": [
    "# Traded lots, assume we trade 0 in the first period\n",
    "trades = positions.diff().fillna(0)\n",
    "\n",
    "# Again start with an empty DataFrame\n",
    "pnl_trades = pd.DataFrame(index = trades.index, columns = stocks)\n",
    "\n",
    "\n",
    "# Calculate total PnL made from trading (we bought against ask price, and sold against bid price).\n",
    "lots_bought = np.maximum(trades, 0)\n",
    "lots_sold = -np.minimum(trades, 0)\n",
    "\n",
    "for stock in stocks:\n",
    "    pnl_trades[stock] = lots_sold[stock] * market_data[stock, 'BidPrice'] - lots_bought[stock] * market_data[stock, 'AskPrice']\n",
    "\n",
    "pnl_trades_total = pnl_trades.iloc[:,:].sum(axis=1)\n",
    "pnl_trades_cumulative = pnl_trades_total.cumsum()"
   ]
  },
  {
   "cell_type": "code",
   "execution_count": null,
   "metadata": {},
   "outputs": [],
   "source": [
    "# Evaluating the position at current midprice per stock\n",
    "position_valuation = pd.DataFrame(data = 0, index = trades.index, columns = stocks)\n",
    "\n",
    "for stock in stocks:\n",
    "    position_valuation[stock] = market_data[stock, 'MidPrice'] * positions[stock]\n",
    "\n",
    "position_valuation_total = position_valuation.iloc[:,:].sum(axis=1)\n",
    "\n",
    "position_valuation_total.tail()"
   ]
  },
  {
   "cell_type": "code",
   "execution_count": null,
   "metadata": {},
   "outputs": [],
   "source": [
    "# Total pnl from trades and position\n",
    "pnl_total = pnl_trades_cumulative + position_valuation_total\n",
    "\n",
    "# Plot it\n",
    "pnl_trades_total.plot(figsize=(20, 3))"
   ]
  },
  {
   "cell_type": "code",
   "execution_count": null,
   "metadata": {},
   "outputs": [],
   "source": [
    "# Visualize cumulative profit and loss\n",
    "pnl_trades_cumulative.plot(figsize=(20, 3))"
   ]
  },
  {
   "cell_type": "code",
   "execution_count": null,
   "metadata": {},
   "outputs": [],
   "source": [
    "# Visualize total pnl\n",
    "\n",
    "pnl_total.plot(figsize=(20, 3), title='PnL for whole dataset')"
   ]
  },
  {
   "cell_type": "code",
   "execution_count": null,
   "metadata": {},
   "outputs": [],
   "source": [
    "pnl_total.plot(label='Total PnL', \n",
    "                            figsize=(20, 3), \n",
    "                            title='Split out PnLs', \n",
    "                            legend=True)\n",
    "\n",
    "pnl_trades_cumulative.plot(label='Cumulative Trades', \n",
    "                                        legend=True)\n",
    "\n",
    "position_valuation_total.plot(label='Position Valuation', \n",
    "                                           legend=True)"
   ]
  },
  {
   "cell_type": "code",
   "execution_count": null,
   "metadata": {},
   "outputs": [],
   "source": [
    "# Create output dataframe with positions and the PnL\n",
    "output = pd.concat((positions, pnl_total), axis=1)\n",
    "output.columns.values[[-1]] = ['Profit-and-Loss']\n",
    "output.tail()"
   ]
  },
  {
   "cell_type": "code",
   "execution_count": null,
   "metadata": {},
   "outputs": [],
   "source": [
    "# Create CSV output file \n",
    "output.to_csv(\"PnL.csv\")"
   ]
  },
  {
   "cell_type": "code",
   "execution_count": null,
   "metadata": {},
   "outputs": [],
   "source": [
    "# For loop to check if (trade ratio * some unit of stocks, up until maximum volume) is a whole number that we can trade,\n",
    "# so that we preserve our trade ratio\n",
    "# the optimal FF and MM will be 41 and 46, since these are whole numbers and close to our trade ratio of 1.122525\n",
    "# (46/41) = 1.122\n",
    "trade_ratio = 1.122525\n",
    "limited_position = 50\n",
    "\n",
    "if (trade_ratio * limited_position) > limited_position:\n",
    "    FF = math.floor(-limited_position / trade_ratio)\n",
    "    MM = math.floor(limited_position / trade_ratio) * trade_ratio\n",
    "    for i in reversed(range(1, abs(FF))):\n",
    "        if is_whole((i * trade_ratio)): \n",
    "            FF = i\n",
    "            MM = i * trade_ratio\n",
    "            break\n",
    "        elif is_whole(round(i * trade_ratio, 1)):\n",
    "            FF = i\n",
    "            MM = round(i * trade_ratio, 1)\n",
    "            break\n",
    "        elif is_whole(i * round(trade_ratio, 1)):\n",
    "            FF = i\n",
    "            MM = (i * round(trade_ratio, 1))\n",
    "            break\n",
    "        else:\n",
    "            FF = 0\n",
    "            MM = 0\n",
    "    print(\"If we go from\" ,limited_position, \"to 1\", \" the whole number\", FF,\n",
    "          \"times\", trade_ratio, \"is closest to\", MM)  "
   ]
  },
  {
   "cell_type": "code",
   "execution_count": null,
   "metadata": {},
   "outputs": [],
   "source": [
    "# We tried to put it in this function, but it did not work in the algorithm\n",
    "def trade_and_preserve_ratio(FF,trade_ratio):\n",
    "    for i in reversed(range(1, abs(FF))):\n",
    "        if is_whole((i * trade_ratio)): \n",
    "            trade_and_preserve_ratio.FF = i\n",
    "            trade_and_preserve_ratio.MM = i * trade_ratio\n",
    "            break\n",
    "        elif is_whole(round(i * trade_ratio, 1)):\n",
    "            trade_and_preserve_ratio.FF = i\n",
    "            trade_and_preserve_ratio.MM = round(i * trade_ratio, 1)\n",
    "            break\n",
    "        elif is_whole(i * round(trade_ratio, 1)):\n",
    "            trade_and_preserve_ratio.FF = i\n",
    "            trade_and_preserve_ratio.MM = i * round(trade_ratio, 1)\n",
    "            break"
   ]
  },
  {
   "cell_type": "code",
   "execution_count": null,
   "metadata": {},
   "outputs": [],
   "source": []
  }
 ],
 "metadata": {
  "kernelspec": {
   "display_name": "Python 3",
   "language": "python",
   "name": "python3"
  },
  "language_info": {
   "codemirror_mode": {
    "name": "ipython",
    "version": 3
   },
   "file_extension": ".py",
   "mimetype": "text/x-python",
   "name": "python",
   "nbconvert_exporter": "python",
   "pygments_lexer": "ipython3",
   "version": "3.7.0"
  }
 },
 "nbformat": 4,
 "nbformat_minor": 2
}
